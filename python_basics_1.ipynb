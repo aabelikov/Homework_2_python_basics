{
 "cells": [
  {
   "cell_type": "markdown",
   "metadata": {},
   "source": [
    "**Задание 1**. Даны 2 строки: *long_phrase* и *short_phrase*. \n",
    "Напишите код, который проверяет действительно ли длинная фраза *long_phrase* длиннее короткой *short_phrase*. И выводит *True* или *False* в зависимости от результата сравнения."
   ]
  },
  {
   "cell_type": "code",
   "execution_count": 5,
   "metadata": {},
   "outputs": [],
   "source": [
    "long_phrase = \"Насколько проще было бы писать программы, если бы не заказчики\"\n",
    "short_phrase = \"640Кб должно хватить для любых задач. Билл Гейтс (по легенде)\""
   ]
  },
  {
   "cell_type": "code",
   "execution_count": 6,
   "metadata": {},
   "outputs": [
    {
     "data": {
      "text/plain": [
       "True"
      ]
     },
     "execution_count": 6,
     "metadata": {},
     "output_type": "execute_result"
    }
   ],
   "source": [
    "len(long_phrase) > len(short_phrase)"
   ]
  },
  {
   "cell_type": "markdown",
   "metadata": {},
   "source": [
    "**Задание 2**. Дано значение объема файла в байтах (*в мегабайте 2^20 байт*). Напишите перевод этого значения в мегабайты в формате: \"*Объем файла равен 213.68Mb*\"."
   ]
  },
  {
   "cell_type": "code",
   "execution_count": 3,
   "metadata": {},
   "outputs": [
    {
     "name": "stdout",
     "output_type": "stream",
     "text": [
      "Объем файла равен 117.74Mb\n"
     ]
    }
   ],
   "source": [
    "size_bytes = 123456789\n",
    "size_mb = size_bytes / 2**20\n",
    "print(\"Объем файла равен\", \"%.2f\" % size_mb + \"Mb\")"
   ]
  },
  {
   "cell_type": "markdown",
   "metadata": {},
   "source": [
    "**Задание 3**. Разработать приложение для определения знака зодиака по дате рождения. Пример:\n",
    "\n",
    "Введите месяц: март\n",
    "\n",
    "Введите число: 6\n",
    "\n",
    "Вывод:\n",
    "Рыбы"
   ]
  },
  {
   "cell_type": "code",
   "execution_count": 2,
   "metadata": {},
   "outputs": [
    {
     "name": "stdout",
     "output_type": "stream",
     "text": [
      "Введите месяц, в который Вы родились: май\n",
      "Введите число, в которое Вы родились: 34\n",
      "Введены некорректные дата/месяц рождения\n"
     ]
    }
   ],
   "source": [
    "month_birth = input(\"Введите месяц, в который Вы родились: \")\n",
    "date_birth = int(input(\"Введите число, в которое Вы родились: \"))\n",
    "if ((21 <= date_birth <= 31) and (month_birth == \"март\")) or ((1 <= date_birth <= 20) and (month_birth == \"апрель\")):\n",
    "    print(\"Ваш знак зодиака - Овен\")\n",
    "elif ((21 <= date_birth <= 30) and (month_birth == \"апрель\")) or ((1 <= date_birth <= 21) and (month_birth == \"май\")):\n",
    "    print(\"Ваш знак зодиака - Телец\")\n",
    "elif ((22 <= date_birth <= 31) and (month_birth == \"май\")) or ((1 <= date_birth <= 21) and (month_birth == \"июнь\")):\n",
    "    print(\"Ваш знак зодиака - Близнецы\")\n",
    "elif ((22 <= date_birth <= 30) and (month_birth == \"июнь\")) or ((1 <= date_birth <= 22) and (month_birth == \"июль\")):\n",
    "    print(\"Ваш знак зодиака - Рак\")\n",
    "elif ((23 <= date_birth <= 31) and (month_birth == \"июль\")) or ((1 <= date_birth <= 23) and (month_birth == \"август\")):\n",
    "    print(\"Ваш знак зодиака - Лев\")\n",
    "elif ((24 <= date_birth <= 30) and (month_birth == \"август\")) or ((1 <= date_birth <= 23) and (month_birth == \"сентябрь\")):\n",
    "    print(\"Ваш знак зодиака - Дева\")\n",
    "elif ((24 <= date_birth <= 30) and (month_birth == \"сентябрь\")) or ((1 <= date_birth <= 23) and (month_birth == \"октябрь\")):\n",
    "    print(\"Ваш знак зодиака - Весы\")\n",
    "elif ((24 <= date_birth <= 31) and (month_birth == \"октябрь\")) or ((1 <= date_birth <= 22) and (month_birth == \"ноябрь\")):\n",
    "    print(\"Ваш знак зодиака - Скорпион\")\n",
    "elif ((23 <= date_birth <= 30) and (month_birth == \"ноябрь\")) or ((1 <= date_birth <= 21) and (month_birth == \"декабрь\")):\n",
    "    print(\"Ваш знак зодиака - Стрелец\")\n",
    "elif ((22 <= date_birth <= 31) and (month_birth == \"декабрь\")) or ((1 <= date_birth <= 20) and (month_birth == \"январь\")):\n",
    "    print(\"Ваш знак зодиака - Козерог\")\n",
    "elif ((21 <= date_birth <= 31) and (month_birth == \"январь\")) or ((1 <= date_birth <= 18) and (month_birth == \"февраль\")):\n",
    "    print(\"Ваш знак зодиака - Водолей\")\n",
    "elif ((19 <= date_birth <= 28) and (month_birth == \"февраль\")) or ((1 <= date_birth <= 20) and (month_birth == \"март\")):\n",
    "    print(\"Ваш знак зодиака - Рыбы\")\n",
    "else:\n",
    "    print(\"Введены некорректные дата/месяц рождения\")"
   ]
  },
  {
   "cell_type": "markdown",
   "metadata": {},
   "source": [
    "**Задание 4**. Нужно разработать приложение для финансового планирования.\n",
    "Приложение учитывает сколько уходит на ипотеку, \"на жизнь\" и сколько нужно отложить на пенсию.\n",
    "Пользователь вводит:\n",
    "- заработанную плату в месяц.\n",
    "- сколько процентов от ЗП уходит на ипотеку.\n",
    "- сколько процентов от ЗП уходит \"на жизнь\".\n",
    "- сколько раз приходит премия в год.\n",
    "\n",
    "Остальная часть заработанной платы откладывается на пенсию.\n",
    "\n",
    "Также пользователю приходит премия в размере зарплаты, от которой половина уходит на отпуск, а вторая половина откладывается.\n",
    "\n",
    "Программа должна учитывать сколько премий было в год.\n",
    "\n",
    "Нужно вывести сколько денег тратит пользователь на ипотеку и сколько он накопит за год.\n",
    "\n",
    "Пример:\n",
    "\n",
    "Введите заработанную плату в месяц: 100000\n",
    "\n",
    "Введите сколько процентов уходит на ипотеку: 30\n",
    "\n",
    "Введите сколько процентов уходит на жизнь: 50\n",
    "\n",
    "Введите количество премий за год: 2\n",
    "\n",
    "Вывод:\n",
    "На ипотеку было потрачено: 360000 рублей\n",
    "Было накоплено: 340000 рублей"
   ]
  },
  {
   "cell_type": "code",
   "execution_count": 1,
   "metadata": {},
   "outputs": [
    {
     "name": "stdout",
     "output_type": "stream",
     "text": [
      "Введите заработанную плату в месяц: 100000\n",
      "Введите сколько процентов уходит на ипотеку: 10\n",
      "Введите сколько процентов уходит на жизнь: 10\n",
      "Введите количество премий за год: 1\n",
      "На ипотеку было потрачено:  120000.0 рублей. Было накоплено:  1010000.0 рублей.\n"
     ]
    }
   ],
   "source": [
    "salary = int(input(\"Введите заработанную плату в месяц: \"))\n",
    "mortgage_p = int(input(\"Введите сколько процентов уходит на ипотеку: \"))\n",
    "living_expenses_p = int(input(\"Введите сколько процентов уходит на жизнь: \"))\n",
    "bonus = int(input(\"Введите количество премий за год: \"))\n",
    "mortgage = salary * mortgage_p / 100 * 12\n",
    "savings = salary * 12 - mortgage - (salary * living_expenses_p / 100 * 12) + salary * bonus / 2\n",
    "print(\"На ипотеку было потрачено: \", mortgage, \"рублей.\", \"Было накоплено: \", savings, \"рублей.\")"
   ]
  },
  {
   "cell_type": "code",
   "execution_count": null,
   "metadata": {},
   "outputs": [],
   "source": []
  }
 ],
 "metadata": {
  "kernelspec": {
   "display_name": "Python 3",
   "language": "python",
   "name": "python3"
  },
  "language_info": {
   "codemirror_mode": {
    "name": "ipython",
    "version": 3
   },
   "file_extension": ".py",
   "mimetype": "text/x-python",
   "name": "python",
   "nbconvert_exporter": "python",
   "pygments_lexer": "ipython3",
   "version": "3.7.6"
  }
 },
 "nbformat": 4,
 "nbformat_minor": 2
}
